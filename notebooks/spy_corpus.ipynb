{
 "cells": [
  {
   "cell_type": "code",
   "execution_count": 1,
   "id": "4ef7977a",
   "metadata": {},
   "outputs": [],
   "source": [
    "%reload_ext autoreload\n",
    "%autoreload 2\n",
    "\n",
    "import numpy as np\n",
    "import pandas as pd\n",
    "import polars as pl\n",
    "from sklearn.model_selection import train_test_split\n",
    "from interpret import show\n",
    "from interpret.perf import ROC\n",
    "\n",
    "from interpret import set_visualize_provider\n",
    "from interpret.provider import InlineProvider\n",
    "\n",
    "from ml.data import load_spy_sample, load_vix\n",
    "from ml.utils import by_date, train_holdout_dates"
   ]
  },
  {
   "cell_type": "code",
   "execution_count": 5,
   "id": "51b97ca0",
   "metadata": {},
   "outputs": [],
   "source": [
    "from sklearn.model_selection import train_test_split\n",
    "from sklearn.metrics import pairwise_distances\n",
    "import numpy as np  \n",
    "import matplotlib.pyplot as plt\n",
    "from sklearn.metrics import pairwise_distances\n",
    "from interpret.utils import SPOT_GreedySubsetSelection # This loads the SPOT prototype selection algorithm."
   ]
  },
  {
   "cell_type": "code",
   "execution_count": 4,
   "id": "70e8e8b8",
   "metadata": {},
   "outputs": [
    {
     "data": {
      "text/html": [
       "<div><style>\n",
       ".dataframe > thead > tr,\n",
       ".dataframe > tbody > tr {\n",
       "  text-align: right;\n",
       "  white-space: pre-wrap;\n",
       "}\n",
       "</style>\n",
       "<small>shape: (3, 7)</small><table border=\"1\" class=\"dataframe\"><thead><tr><th>symbol</th><th>date</th><th>option_type</th><th>close</th><th>minute_index</th><th>close_moneyness</th><th>max_forward_return</th></tr><tr><td>str</td><td>date</td><td>str</td><td>f64</td><td>i32</td><td>f64</td><td>f64</td></tr></thead><tbody><tr><td>&quot;SPY&nbsp;&nbsp;&nbsp;240102P00476000&quot;</td><td>2024-01-02</td><td>&quot;P&quot;</td><td>3.57</td><td>0</td><td>1.007365</td><td>0.535014</td></tr><tr><td>&quot;SPY&nbsp;&nbsp;&nbsp;240102P00462000&quot;</td><td>2024-01-02</td><td>&quot;P&quot;</td><td>0.01</td><td>0</td><td>0.977736</td><td>1.0</td></tr><tr><td>&quot;SPY&nbsp;&nbsp;&nbsp;240102C00475000&quot;</td><td>2024-01-02</td><td>&quot;C&quot;</td><td>0.22125</td><td>0</td><td>0.994779</td><td>0.022599</td></tr></tbody></table></div>"
      ],
      "text/plain": [
       "shape: (3, 7)\n",
       "┌───────────────┬────────────┬─────────────┬─────────┬──────────────┬───────────────┬──────────────┐\n",
       "│ symbol        ┆ date       ┆ option_type ┆ close   ┆ minute_index ┆ close_moneyne ┆ max_forward_ │\n",
       "│ ---           ┆ ---        ┆ ---         ┆ ---     ┆ ---          ┆ ss            ┆ return       │\n",
       "│ str           ┆ date       ┆ str         ┆ f64     ┆ i32          ┆ ---           ┆ ---          │\n",
       "│               ┆            ┆             ┆         ┆              ┆ f64           ┆ f64          │\n",
       "╞═══════════════╪════════════╪═════════════╪═════════╪══════════════╪═══════════════╪══════════════╡\n",
       "│ SPY   240102P ┆ 2024-01-02 ┆ P           ┆ 3.57    ┆ 0            ┆ 1.007365      ┆ 0.535014     │\n",
       "│ 00476000      ┆            ┆             ┆         ┆              ┆               ┆              │\n",
       "│ SPY   240102P ┆ 2024-01-02 ┆ P           ┆ 0.01    ┆ 0            ┆ 0.977736      ┆ 1.0          │\n",
       "│ 00462000      ┆            ┆             ┆         ┆              ┆               ┆              │\n",
       "│ SPY   240102C ┆ 2024-01-02 ┆ C           ┆ 0.22125 ┆ 0            ┆ 0.994779      ┆ 0.022599     │\n",
       "│ 00475000      ┆            ┆             ┆         ┆              ┆               ┆              │\n",
       "└───────────────┴────────────┴─────────────┴─────────┴──────────────┴───────────────┴──────────────┘"
      ]
     },
     "execution_count": 4,
     "metadata": {},
     "output_type": "execute_result"
    }
   ],
   "source": [
    "df = load_spy_sample(months=[1])\n",
    "df.head(3)"
   ]
  },
  {
   "cell_type": "code",
   "execution_count": null,
   "id": "f171aa39",
   "metadata": {},
   "outputs": [],
   "source": [
    "# Split data into 70% src and 30% tgt subsets \n",
    "X_src, X_tgt, y_src, y_tgt = train_test_split(, digits.target, test_size=0.3, shuffle=False)"
   ]
  }
 ],
 "metadata": {
  "kernelspec": {
   "display_name": ".venv",
   "language": "python",
   "name": "python3"
  },
  "language_info": {
   "codemirror_mode": {
    "name": "ipython",
    "version": 3
   },
   "file_extension": ".py",
   "mimetype": "text/x-python",
   "name": "python",
   "nbconvert_exporter": "python",
   "pygments_lexer": "ipython3",
   "version": "3.11.11"
  }
 },
 "nbformat": 4,
 "nbformat_minor": 5
}
