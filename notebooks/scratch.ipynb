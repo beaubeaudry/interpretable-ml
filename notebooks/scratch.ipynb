{
 "cells": [
  {
   "cell_type": "code",
   "execution_count": null,
   "id": "b88bc4d7",
   "metadata": {},
   "outputs": [],
   "source": [
    "spy = load_spy_sample()\n",
    "\n",
    "# Find a series close 0.75 median price\n",
    "median_close = spy.group_by('symbol').agg(pl.col('close').median().alias('median_close'))\n",
    "filtered_series = median_close.filter((pl.col('median_close') >= 0.7) & (pl.col('median_close') <= 0.8))\n",
    "filtered_series\n",
    "\n",
    "series = spy.filter(pl.col('symbol') == \"SPY   240125P00487000\")\n",
    "\n",
    "\n",
    "get_corr(series['close', 'minute_index'])"
   ]
  },
  {
   "cell_type": "code",
   "execution_count": null,
   "id": "a14c375a",
   "metadata": {},
   "outputs": [],
   "source": [
    "# feature_types=['nominal', 'uniform', list(range(0,391))]\n",
    "ebm.term_names_\n",
    "ebm.feature_types_in_\n",
    "ebm.bins_[2]"
   ]
  },
  {
   "cell_type": "code",
   "execution_count": null,
   "id": "38d9598b",
   "metadata": {},
   "outputs": [],
   "source": [
    "from interpret.glassbox import LogisticRegression, ClassificationTree, APLRClassifier\n",
    "\n",
    "# We have to transform categorical variables to use Logistic Regression and Decision Tree\n",
    "X_pd = pd.get_dummies(data.X.to_pandas(), prefix_sep='.').astype(float)\n",
    "X_train, X_test, y_train, y_test = train_test_split(X_pd, data.y, test_size=0.20, random_state=42)\n",
    "\n",
    "# https://scikit-learn.org/stable/modules/generated/sklearn.linear_model.LogisticRegression.html\n",
    "lr = LogisticRegression(random_state=42, penalty='l1', solver='liblinear')\n",
    "lr.fit(X_train, y_train)\n",
    "\n",
    "# Fast\n",
    "tree = ClassificationTree()\n",
    "tree.fit(X_train, y_train)\n",
    "\n",
    "# Slow (10minvs 1s for ebm) but higher score (.8299 vs .8127) but worse explainations\n",
    "# aplr = APLRClassifier(random_state=42)\n",
    "# aplr.fit(X_train, y_train, X_names=X_train.columns)"
   ]
  },
  {
   "cell_type": "code",
   "execution_count": null,
   "id": "8bf047a6",
   "metadata": {},
   "outputs": [],
   "source": [
    "lr_perf = ROC(lr).explain_perf(X_test, y_test, name='Logistic Regression')\n",
    "show(lr_perf)\n",
    "\n",
    "tree_perf = ROC(tree).explain_perf(X_test, y_test, name='Classification Tree')\n",
    "show(tree_perf)\n",
    "\n",
    "tree_global = tree.explain_global(name='Tree')\n",
    "show(tree_global)"
   ]
  }
 ],
 "metadata": {
  "language_info": {
   "name": "python"
  }
 },
 "nbformat": 4,
 "nbformat_minor": 5
}
