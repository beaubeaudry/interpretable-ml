{
 "cells": [
  {
   "cell_type": "code",
   "execution_count": null,
   "id": "b88bc4d7",
   "metadata": {},
   "outputs": [],
   "source": [
    "spy = load_spy_sample()\n",
    "\n",
    "# Find a series close 0.75 median price\n",
    "median_close = spy.group_by('symbol').agg(pl.col('close').median().alias('median_close'))\n",
    "filtered_series = median_close.filter((pl.col('median_close') >= 0.7) & (pl.col('median_close') <= 0.8))\n",
    "filtered_series\n",
    "\n",
    "series = spy.filter(pl.col('symbol') == \"SPY   240125P00487000\")\n",
    "\n",
    "\n",
    "get_corr(series['close', 'minute_index'])"
   ]
  }
 ],
 "metadata": {
  "language_info": {
   "name": "python"
  }
 },
 "nbformat": 4,
 "nbformat_minor": 5
}
