{
 "cells": [
  {
   "cell_type": "code",
   "execution_count": null,
   "id": "07daa447",
   "metadata": {},
   "outputs": [],
   "source": [
    "import polars as pl\n",
    "from ml.data import load_bike, load_penguins, load_spy_sample, load_spy"
   ]
  },
  {
   "cell_type": "code",
   "execution_count": null,
   "id": "02de79d8",
   "metadata": {},
   "outputs": [],
   "source": [
    "spy_data = load_spy_sample()\n",
    "spy_data"
   ]
  },
  {
   "cell_type": "code",
   "execution_count": null,
   "id": "560afd59",
   "metadata": {},
   "outputs": [],
   "source": [
    "spy_data = load_spy()\n",
    "spy_data.head(3)"
   ]
  },
  {
   "cell_type": "code",
   "execution_count": null,
   "id": "12fc43f2",
   "metadata": {},
   "outputs": [],
   "source": [
    "cols = ['symbol', 'option_type', 'strike', 'close', 'minute_index', 'date', 'close_moneyness', 'max_forward_return']\n",
    "spy_data[cols]"
   ]
  }
 ],
 "metadata": {
  "kernelspec": {
   "display_name": ".venv",
   "language": "python",
   "name": "python3"
  },
  "language_info": {
   "codemirror_mode": {
    "name": "ipython",
    "version": 3
   },
   "file_extension": ".py",
   "mimetype": "text/x-python",
   "name": "python",
   "nbconvert_exporter": "python",
   "pygments_lexer": "ipython3",
   "version": "3.11.11"
  }
 },
 "nbformat": 4,
 "nbformat_minor": 5
}
