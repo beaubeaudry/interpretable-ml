{
 "cells": [
  {
   "cell_type": "code",
   "execution_count": 1,
   "id": "07daa447",
   "metadata": {},
   "outputs": [],
   "source": [
    "import polars as pl\n",
    "from ml.data import load_bike, load_penguins"
   ]
  },
  {
   "cell_type": "code",
   "execution_count": null,
   "id": "02de79d8",
   "metadata": {},
   "outputs": [
    {
     "data": {
      "text/html": [
       "<div><style>\n",
       ".dataframe > thead > tr,\n",
       ".dataframe > tbody > tr {\n",
       "  text-align: right;\n",
       "  white-space: pre-wrap;\n",
       "}\n",
       "</style>\n",
       "<small>shape: (2_866_990, 27)</small><table border=\"1\" class=\"dataframe\"><thead><tr><th>symbol</th><th>ts_event</th><th>open</th><th>high</th><th>low</th><th>close</th><th>volume</th><th>expiration</th><th>option_type</th><th>strike</th><th>time</th><th>date</th><th>hour</th><th>month</th><th>day_name</th><th>expiration_day_name</th><th>dte</th><th>minute_index</th><th>open_underlying</th><th>high_underlying</th><th>low_underlying</th><th>close_underlying</th><th>volume_underlying</th><th>open_moneyness</th><th>close_moneyness</th><th>open_itm</th><th>close_itm</th></tr><tr><td>str</td><td>datetime[ns, America/New_York]</td><td>f64</td><td>f64</td><td>f64</td><td>f64</td><td>u64</td><td>date</td><td>str</td><td>f64</td><td>time</td><td>date</td><td>i8</td><td>i8</td><td>str</td><td>str</td><td>i64</td><td>i32</td><td>f64</td><td>f64</td><td>f64</td><td>f64</td><td>u64</td><td>f64</td><td>f64</td><td>bool</td><td>bool</td></tr></thead><tbody><tr><td>&quot;SPY&nbsp;&nbsp;&nbsp;240102P00476000&quot;</td><td>2024-01-02 09:30:00 EST</td><td>3.721875</td><td>3.80375</td><td>3.43875</td><td>3.57</td><td>570</td><td>2024-01-02</td><td>&quot;P&quot;</td><td>476.0</td><td>09:30:00</td><td>2024-01-02</td><td>9</td><td>1</td><td>&quot;Tue&quot;</td><td>&quot;Tue&quot;</td><td>0</td><td>0</td><td>472.16</td><td>472.66</td><td>472.05</td><td>472.52</td><td>209929</td><td>1.008133</td><td>1.007365</td><td>true</td><td>true</td></tr><tr><td>&quot;SPY&nbsp;&nbsp;&nbsp;240102P00462000&quot;</td><td>2024-01-02 09:30:00 EST</td><td>0.01</td><td>0.01</td><td>0.01</td><td>0.01</td><td>201</td><td>2024-01-02</td><td>&quot;P&quot;</td><td>462.0</td><td>09:30:00</td><td>2024-01-02</td><td>9</td><td>1</td><td>&quot;Tue&quot;</td><td>&quot;Tue&quot;</td><td>0</td><td>0</td><td>472.16</td><td>472.66</td><td>472.05</td><td>472.52</td><td>209929</td><td>0.978482</td><td>0.977736</td><td>false</td><td>false</td></tr><tr><td>&quot;SPY&nbsp;&nbsp;&nbsp;240102C00475000&quot;</td><td>2024-01-02 09:30:00 EST</td><td>0.223125</td><td>0.26</td><td>0.214375</td><td>0.22125</td><td>2249</td><td>2024-01-02</td><td>&quot;C&quot;</td><td>475.0</td><td>09:30:00</td><td>2024-01-02</td><td>9</td><td>1</td><td>&quot;Tue&quot;</td><td>&quot;Tue&quot;</td><td>0</td><td>0</td><td>472.16</td><td>472.66</td><td>472.05</td><td>472.52</td><td>209929</td><td>0.994021</td><td>0.994779</td><td>false</td><td>false</td></tr><tr><td>&quot;SPY&nbsp;&nbsp;&nbsp;240102P00465000&quot;</td><td>2024-01-02 09:30:00 EST</td><td>0.01</td><td>0.01</td><td>0.01</td><td>0.01</td><td>125</td><td>2024-01-02</td><td>&quot;P&quot;</td><td>465.0</td><td>09:30:00</td><td>2024-01-02</td><td>9</td><td>1</td><td>&quot;Tue&quot;</td><td>&quot;Tue&quot;</td><td>0</td><td>0</td><td>472.16</td><td>472.66</td><td>472.05</td><td>472.52</td><td>209929</td><td>0.984836</td><td>0.984085</td><td>false</td><td>false</td></tr><tr><td>&quot;SPY&nbsp;&nbsp;&nbsp;240102P00446000&quot;</td><td>2024-01-02 09:30:00 EST</td><td>0.01</td><td>0.01</td><td>0.01</td><td>0.01</td><td>1</td><td>2024-01-02</td><td>&quot;P&quot;</td><td>446.0</td><td>09:30:00</td><td>2024-01-02</td><td>9</td><td>1</td><td>&quot;Tue&quot;</td><td>&quot;Tue&quot;</td><td>0</td><td>0</td><td>472.16</td><td>472.66</td><td>472.05</td><td>472.52</td><td>209929</td><td>0.944595</td><td>0.943875</td><td>false</td><td>false</td></tr><tr><td>&hellip;</td><td>&hellip;</td><td>&hellip;</td><td>&hellip;</td><td>&hellip;</td><td>&hellip;</td><td>&hellip;</td><td>&hellip;</td><td>&hellip;</td><td>&hellip;</td><td>&hellip;</td><td>&hellip;</td><td>&hellip;</td><td>&hellip;</td><td>&hellip;</td><td>&hellip;</td><td>&hellip;</td><td>&hellip;</td><td>&hellip;</td><td>&hellip;</td><td>&hellip;</td><td>&hellip;</td><td>&hellip;</td><td>&hellip;</td><td>&hellip;</td><td>&hellip;</td><td>&hellip;</td></tr><tr><td>&quot;SPY&nbsp;&nbsp;&nbsp;241230P00591000&quot;</td><td>2024-12-30 15:59:00 EST</td><td>2.4825</td><td>2.55625</td><td>2.4825</td><td>2.55625</td><td>48</td><td>2024-12-30</td><td>&quot;P&quot;</td><td>591.0</td><td>15:59:00</td><td>2024-12-30</td><td>15</td><td>12</td><td>&quot;Mon&quot;</td><td>&quot;Mon&quot;</td><td>0</td><td>389</td><td>588.79</td><td>588.84</td><td>588.07</td><td>588.25</td><td>276539</td><td>1.003753</td><td>1.004675</td><td>true</td><td>true</td></tr><tr><td>&quot;SPY&nbsp;&nbsp;&nbsp;241230P00586000&quot;</td><td>2024-12-30 15:59:00 EST</td><td>0.01</td><td>0.01</td><td>0.01</td><td>0.01</td><td>5</td><td>2024-12-30</td><td>&quot;P&quot;</td><td>586.0</td><td>15:59:00</td><td>2024-12-30</td><td>15</td><td>12</td><td>&quot;Mon&quot;</td><td>&quot;Mon&quot;</td><td>0</td><td>389</td><td>588.79</td><td>588.84</td><td>588.07</td><td>588.25</td><td>276539</td><td>0.995261</td><td>0.996175</td><td>false</td><td>false</td></tr><tr><td>&quot;SPY&nbsp;&nbsp;&nbsp;241230P00580000&quot;</td><td>2024-12-30 15:59:00 EST</td><td>0.01</td><td>0.01</td><td>0.01</td><td>0.01</td><td>16</td><td>2024-12-30</td><td>&quot;P&quot;</td><td>580.0</td><td>15:59:00</td><td>2024-12-30</td><td>15</td><td>12</td><td>&quot;Mon&quot;</td><td>&quot;Mon&quot;</td><td>0</td><td>389</td><td>588.79</td><td>588.84</td><td>588.07</td><td>588.25</td><td>276539</td><td>0.985071</td><td>0.985975</td><td>false</td><td>false</td></tr><tr><td>&quot;SPY&nbsp;&nbsp;&nbsp;241230P00595000&quot;</td><td>2024-12-30 15:59:00 EST</td><td>6.642857</td><td>6.642857</td><td>6.631429</td><td>6.631429</td><td>114</td><td>2024-12-30</td><td>&quot;P&quot;</td><td>595.0</td><td>15:59:00</td><td>2024-12-30</td><td>15</td><td>12</td><td>&quot;Mon&quot;</td><td>&quot;Mon&quot;</td><td>0</td><td>389</td><td>588.79</td><td>588.84</td><td>588.07</td><td>588.25</td><td>276539</td><td>1.010547</td><td>1.011475</td><td>true</td><td>true</td></tr><tr><td>&quot;SPY&nbsp;&nbsp;&nbsp;241230C00585000&quot;</td><td>2024-12-30 15:59:00 EST</td><td>3.5</td><td>3.5</td><td>3.5</td><td>3.5</td><td>1</td><td>2024-12-30</td><td>&quot;C&quot;</td><td>585.0</td><td>15:59:00</td><td>2024-12-30</td><td>15</td><td>12</td><td>&quot;Mon&quot;</td><td>&quot;Mon&quot;</td><td>0</td><td>389</td><td>588.79</td><td>588.84</td><td>588.07</td><td>588.25</td><td>276539</td><td>1.006479</td><td>1.005556</td><td>true</td><td>true</td></tr></tbody></table></div>"
      ],
      "text/plain": [
       "shape: (2_866_990, 27)\n",
       "┌────────────┬────────────┬──────────┬──────────┬───┬───────────┬───────────┬──────────┬───────────┐\n",
       "│ symbol     ┆ ts_event   ┆ open     ┆ high     ┆ … ┆ open_mone ┆ close_mon ┆ open_itm ┆ close_itm │\n",
       "│ ---        ┆ ---        ┆ ---      ┆ ---      ┆   ┆ yness     ┆ eyness    ┆ ---      ┆ ---       │\n",
       "│ str        ┆ datetime[n ┆ f64      ┆ f64      ┆   ┆ ---       ┆ ---       ┆ bool     ┆ bool      │\n",
       "│            ┆ s, America ┆          ┆          ┆   ┆ f64       ┆ f64       ┆          ┆           │\n",
       "│            ┆ /New_York] ┆          ┆          ┆   ┆           ┆           ┆          ┆           │\n",
       "╞════════════╪════════════╪══════════╪══════════╪═══╪═══════════╪═══════════╪══════════╪═══════════╡\n",
       "│ SPY   2401 ┆ 2024-01-02 ┆ 3.721875 ┆ 3.80375  ┆ … ┆ 1.008133  ┆ 1.007365  ┆ true     ┆ true      │\n",
       "│ 02P0047600 ┆ 09:30:00   ┆          ┆          ┆   ┆           ┆           ┆          ┆           │\n",
       "│ 0          ┆ EST        ┆          ┆          ┆   ┆           ┆           ┆          ┆           │\n",
       "│ SPY   2401 ┆ 2024-01-02 ┆ 0.01     ┆ 0.01     ┆ … ┆ 0.978482  ┆ 0.977736  ┆ false    ┆ false     │\n",
       "│ 02P0046200 ┆ 09:30:00   ┆          ┆          ┆   ┆           ┆           ┆          ┆           │\n",
       "│ 0          ┆ EST        ┆          ┆          ┆   ┆           ┆           ┆          ┆           │\n",
       "│ SPY   2401 ┆ 2024-01-02 ┆ 0.223125 ┆ 0.26     ┆ … ┆ 0.994021  ┆ 0.994779  ┆ false    ┆ false     │\n",
       "│ 02C0047500 ┆ 09:30:00   ┆          ┆          ┆   ┆           ┆           ┆          ┆           │\n",
       "│ 0          ┆ EST        ┆          ┆          ┆   ┆           ┆           ┆          ┆           │\n",
       "│ SPY   2401 ┆ 2024-01-02 ┆ 0.01     ┆ 0.01     ┆ … ┆ 0.984836  ┆ 0.984085  ┆ false    ┆ false     │\n",
       "│ 02P0046500 ┆ 09:30:00   ┆          ┆          ┆   ┆           ┆           ┆          ┆           │\n",
       "│ 0          ┆ EST        ┆          ┆          ┆   ┆           ┆           ┆          ┆           │\n",
       "│ SPY   2401 ┆ 2024-01-02 ┆ 0.01     ┆ 0.01     ┆ … ┆ 0.944595  ┆ 0.943875  ┆ false    ┆ false     │\n",
       "│ 02P0044600 ┆ 09:30:00   ┆          ┆          ┆   ┆           ┆           ┆          ┆           │\n",
       "│ 0          ┆ EST        ┆          ┆          ┆   ┆           ┆           ┆          ┆           │\n",
       "│ …          ┆ …          ┆ …        ┆ …        ┆ … ┆ …         ┆ …         ┆ …        ┆ …         │\n",
       "│ SPY   2412 ┆ 2024-12-30 ┆ 2.4825   ┆ 2.55625  ┆ … ┆ 1.003753  ┆ 1.004675  ┆ true     ┆ true      │\n",
       "│ 30P0059100 ┆ 15:59:00   ┆          ┆          ┆   ┆           ┆           ┆          ┆           │\n",
       "│ 0          ┆ EST        ┆          ┆          ┆   ┆           ┆           ┆          ┆           │\n",
       "│ SPY   2412 ┆ 2024-12-30 ┆ 0.01     ┆ 0.01     ┆ … ┆ 0.995261  ┆ 0.996175  ┆ false    ┆ false     │\n",
       "│ 30P0058600 ┆ 15:59:00   ┆          ┆          ┆   ┆           ┆           ┆          ┆           │\n",
       "│ 0          ┆ EST        ┆          ┆          ┆   ┆           ┆           ┆          ┆           │\n",
       "│ SPY   2412 ┆ 2024-12-30 ┆ 0.01     ┆ 0.01     ┆ … ┆ 0.985071  ┆ 0.985975  ┆ false    ┆ false     │\n",
       "│ 30P0058000 ┆ 15:59:00   ┆          ┆          ┆   ┆           ┆           ┆          ┆           │\n",
       "│ 0          ┆ EST        ┆          ┆          ┆   ┆           ┆           ┆          ┆           │\n",
       "│ SPY   2412 ┆ 2024-12-30 ┆ 6.642857 ┆ 6.642857 ┆ … ┆ 1.010547  ┆ 1.011475  ┆ true     ┆ true      │\n",
       "│ 30P0059500 ┆ 15:59:00   ┆          ┆          ┆   ┆           ┆           ┆          ┆           │\n",
       "│ 0          ┆ EST        ┆          ┆          ┆   ┆           ┆           ┆          ┆           │\n",
       "│ SPY   2412 ┆ 2024-12-30 ┆ 3.5      ┆ 3.5      ┆ … ┆ 1.006479  ┆ 1.005556  ┆ true     ┆ true      │\n",
       "│ 30C0058500 ┆ 15:59:00   ┆          ┆          ┆   ┆           ┆           ┆          ┆           │\n",
       "│ 0          ┆ EST        ┆          ┆          ┆   ┆           ┆           ┆          ┆           │\n",
       "└────────────┴────────────┴──────────┴──────────┴───┴───────────┴───────────┴──────────┴───────────┘"
      ]
     },
     "execution_count": 3,
     "metadata": {},
     "output_type": "execute_result"
    }
   ],
   "source": [
    "spy_data = load_spy_sample()\n"
   ]
  }
 ],
 "metadata": {
  "kernelspec": {
   "display_name": ".venv",
   "language": "python",
   "name": "python3"
  },
  "language_info": {
   "codemirror_mode": {
    "name": "ipython",
    "version": 3
   },
   "file_extension": ".py",
   "mimetype": "text/x-python",
   "name": "python",
   "nbconvert_exporter": "python",
   "pygments_lexer": "ipython3",
   "version": "3.11.11"
  }
 },
 "nbformat": 4,
 "nbformat_minor": 5
}
