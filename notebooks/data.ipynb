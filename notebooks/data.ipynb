{
 "cells": [
  {
   "cell_type": "code",
   "execution_count": 1,
   "id": "cdd6feac",
   "metadata": {},
   "outputs": [],
   "source": [
    "import polars as pl\n",
    "from ml.data import load_bike, load_penguins\n",
    "from ml.utils import get_corr\n"
   ]
  },
  {
   "cell_type": "code",
   "execution_count": 2,
   "id": "b6a07f90",
   "metadata": {},
   "outputs": [],
   "source": [
    "bike = load_bike()\n",
    "penguins = load_penguins()"
   ]
  },
  {
   "cell_type": "code",
   "execution_count": 3,
   "id": "fc219b38",
   "metadata": {},
   "outputs": [
    {
     "data": {
      "text/html": [
       "<div><style>\n",
       ".dataframe > thead > tr,\n",
       ".dataframe > tbody > tr {\n",
       "  text-align: right;\n",
       "  white-space: pre-wrap;\n",
       "}\n",
       "</style>\n",
       "<small>shape: (728, 9)</small><table border=\"1\" class=\"dataframe\"><thead><tr><th>cnt</th><th>season</th><th>holiday</th><th>workday</th><th>weather</th><th>temp</th><th>hum</th><th>windspeed</th><th>cnt_2d_bfr</th></tr><tr><td>i64</td><td>str</td><td>str</td><td>str</td><td>str</td><td>f64</td><td>f64</td><td>f64</td><td>i64</td></tr></thead><tbody><tr><td>1349</td><td>&quot;WINTER&quot;</td><td>&quot;N&quot;</td><td>&quot;Y&quot;</td><td>&quot;GOOD&quot;</td><td>1.229108</td><td>43.7273</td><td>16.636703</td><td>985</td></tr><tr><td>1562</td><td>&quot;WINTER&quot;</td><td>&quot;N&quot;</td><td>&quot;Y&quot;</td><td>&quot;GOOD&quot;</td><td>1.4</td><td>59.0435</td><td>10.739832</td><td>801</td></tr><tr><td>1600</td><td>&quot;WINTER&quot;</td><td>&quot;N&quot;</td><td>&quot;Y&quot;</td><td>&quot;GOOD&quot;</td><td>2.666979</td><td>43.6957</td><td>12.5223</td><td>1349</td></tr><tr><td>1606</td><td>&quot;WINTER&quot;</td><td>&quot;N&quot;</td><td>&quot;Y&quot;</td><td>&quot;GOOD&quot;</td><td>1.604356</td><td>51.8261</td><td>6.0008684</td><td>1562</td></tr><tr><td>1510</td><td>&quot;WINTER&quot;</td><td>&quot;N&quot;</td><td>&quot;Y&quot;</td><td>&quot;MISTY&quot;</td><td>1.236534</td><td>49.8696</td><td>11.304642</td><td>1600</td></tr><tr><td>&hellip;</td><td>&hellip;</td><td>&hellip;</td><td>&hellip;</td><td>&hellip;</td><td>&hellip;</td><td>&hellip;</td><td>&hellip;</td><td>&hellip;</td></tr><tr><td>2114</td><td>&quot;WINTER&quot;</td><td>&quot;N&quot;</td><td>&quot;Y&quot;</td><td>&quot;MISTY&quot;</td><td>3.945849</td><td>65.2917</td><td>23.458911</td><td>1013</td></tr><tr><td>3095</td><td>&quot;WINTER&quot;</td><td>&quot;N&quot;</td><td>&quot;Y&quot;</td><td>&quot;MISTY&quot;</td><td>3.906651</td><td>59.0</td><td>10.416557</td><td>441</td></tr><tr><td>1341</td><td>&quot;WINTER&quot;</td><td>&quot;N&quot;</td><td>&quot;N&quot;</td><td>&quot;MISTY&quot;</td><td>3.906651</td><td>75.2917</td><td>8.333661</td><td>2114</td></tr><tr><td>1796</td><td>&quot;WINTER&quot;</td><td>&quot;N&quot;</td><td>&quot;N&quot;</td><td>&quot;GOOD&quot;</td><td>4.024151</td><td>48.3333</td><td>23.500518</td><td>3095</td></tr><tr><td>2729</td><td>&quot;WINTER&quot;</td><td>&quot;N&quot;</td><td>&quot;Y&quot;</td><td>&quot;MISTY&quot;</td><td>2.144151</td><td>57.75</td><td>10.374682</td><td>1341</td></tr></tbody></table></div>"
      ],
      "text/plain": [
       "shape: (728, 9)\n",
       "┌──────┬────────┬─────────┬─────────┬───┬──────────┬─────────┬───────────┬────────────┐\n",
       "│ cnt  ┆ season ┆ holiday ┆ workday ┆ … ┆ temp     ┆ hum     ┆ windspeed ┆ cnt_2d_bfr │\n",
       "│ ---  ┆ ---    ┆ ---     ┆ ---     ┆   ┆ ---      ┆ ---     ┆ ---       ┆ ---        │\n",
       "│ i64  ┆ str    ┆ str     ┆ str     ┆   ┆ f64      ┆ f64     ┆ f64       ┆ i64        │\n",
       "╞══════╪════════╪═════════╪═════════╪═══╪══════════╪═════════╪═══════════╪════════════╡\n",
       "│ 1349 ┆ WINTER ┆ N       ┆ Y       ┆ … ┆ 1.229108 ┆ 43.7273 ┆ 16.636703 ┆ 985        │\n",
       "│ 1562 ┆ WINTER ┆ N       ┆ Y       ┆ … ┆ 1.4      ┆ 59.0435 ┆ 10.739832 ┆ 801        │\n",
       "│ 1600 ┆ WINTER ┆ N       ┆ Y       ┆ … ┆ 2.666979 ┆ 43.6957 ┆ 12.5223   ┆ 1349       │\n",
       "│ 1606 ┆ WINTER ┆ N       ┆ Y       ┆ … ┆ 1.604356 ┆ 51.8261 ┆ 6.0008684 ┆ 1562       │\n",
       "│ 1510 ┆ WINTER ┆ N       ┆ Y       ┆ … ┆ 1.236534 ┆ 49.8696 ┆ 11.304642 ┆ 1600       │\n",
       "│ …    ┆ …      ┆ …       ┆ …       ┆ … ┆ …        ┆ …       ┆ …         ┆ …          │\n",
       "│ 2114 ┆ WINTER ┆ N       ┆ Y       ┆ … ┆ 3.945849 ┆ 65.2917 ┆ 23.458911 ┆ 1013       │\n",
       "│ 3095 ┆ WINTER ┆ N       ┆ Y       ┆ … ┆ 3.906651 ┆ 59.0    ┆ 10.416557 ┆ 441        │\n",
       "│ 1341 ┆ WINTER ┆ N       ┆ N       ┆ … ┆ 3.906651 ┆ 75.2917 ┆ 8.333661  ┆ 2114       │\n",
       "│ 1796 ┆ WINTER ┆ N       ┆ N       ┆ … ┆ 4.024151 ┆ 48.3333 ┆ 23.500518 ┆ 3095       │\n",
       "│ 2729 ┆ WINTER ┆ N       ┆ Y       ┆ … ┆ 2.144151 ┆ 57.75   ┆ 10.374682 ┆ 1341       │\n",
       "└──────┴────────┴─────────┴─────────┴───┴──────────┴─────────┴───────────┴────────────┘"
      ]
     },
     "execution_count": 3,
     "metadata": {},
     "output_type": "execute_result"
    }
   ],
   "source": [
    "bike\n"
   ]
  },
  {
   "cell_type": "code",
   "execution_count": null,
   "id": "edbb474f",
   "metadata": {},
   "outputs": [
    {
     "ename": "TypeError",
     "evalue": "corrcoef() got an unexpected keyword argument 'method'",
     "output_type": "error",
     "traceback": [
      "\u001b[31m---------------------------------------------------------------------------\u001b[39m",
      "\u001b[31mTypeError\u001b[39m                                 Traceback (most recent call last)",
      "\u001b[36mCell\u001b[39m\u001b[36m \u001b[39m\u001b[32mIn[4]\u001b[39m\u001b[32m, line 1\u001b[39m\n\u001b[32m----> \u001b[39m\u001b[32m1\u001b[39m \u001b[43mget_corr\u001b[49m\u001b[43m(\u001b[49m\u001b[43mbike\u001b[49m\u001b[43m.\u001b[49m\u001b[43mselect\u001b[49m\u001b[43m(\u001b[49m\u001b[43mpl\u001b[49m\u001b[43m.\u001b[49m\u001b[43mexclude\u001b[49m\u001b[43m(\u001b[49m\u001b[33;43m'\u001b[39;49m\u001b[33;43mcnt\u001b[39;49m\u001b[33;43m'\u001b[39;49m\u001b[43m,\u001b[49m\u001b[43m \u001b[49m\u001b[33;43m'\u001b[39;49m\u001b[33;43mcnt_2d_bfr\u001b[39;49m\u001b[33;43m'\u001b[39;49m\u001b[43m)\u001b[49m\u001b[43m)\u001b[49m\u001b[43m)\u001b[49m.head(\u001b[32m10\u001b[39m)\n",
      "\u001b[36mFile \u001b[39m\u001b[32mc:\\Dev\\interpretable-ml\\ml\\utils.py:9\u001b[39m, in \u001b[36mget_corr\u001b[39m\u001b[34m(df)\u001b[39m\n\u001b[32m      6\u001b[39m df = df.select(cs.numeric()).corr()\n\u001b[32m      8\u001b[39m \u001b[38;5;66;03m# Pearson correlation\u001b[39;00m\n\u001b[32m----> \u001b[39m\u001b[32m9\u001b[39m df = (\u001b[43mdf\u001b[49m\u001b[43m.\u001b[49m\u001b[43mcorr\u001b[49m\u001b[43m(\u001b[49m\u001b[43mmethod\u001b[49m\u001b[43m=\u001b[49m\u001b[33;43m'\u001b[39;49m\u001b[33;43mpearson\u001b[39;49m\u001b[33;43m'\u001b[39;49m\u001b[43m)\u001b[49m\n\u001b[32m     10\u001b[39m     .with_columns(index = pl.lit(pl.Series(df.columns)))\n\u001b[32m     11\u001b[39m     .unpivot(index = \u001b[33m\"\u001b[39m\u001b[33mindex\u001b[39m\u001b[33m\"\u001b[39m)\n\u001b[32m     12\u001b[39m     .filter(pl.col(\u001b[33m\"\u001b[39m\u001b[33mindex\u001b[39m\u001b[33m\"\u001b[39m) != pl.col(\u001b[33m\"\u001b[39m\u001b[33mvariable\u001b[39m\u001b[33m\"\u001b[39m))\n\u001b[32m     13\u001b[39m ).sort(\u001b[33m\"\u001b[39m\u001b[33mvalue\u001b[39m\u001b[33m\"\u001b[39m, descending=\u001b[38;5;28;01mTrue\u001b[39;00m)\n\u001b[32m     15\u001b[39m \u001b[38;5;66;03m# Remove diagonals by making a list from variable names, sorting list, removing duplicates\u001b[39;00m\n\u001b[32m     16\u001b[39m df = df.with_columns(\n\u001b[32m     17\u001b[39m         pl.struct(a=\u001b[33m'\u001b[39m\u001b[33mindex\u001b[39m\u001b[33m'\u001b[39m, b=\u001b[33m'\u001b[39m\u001b[33mvariable\u001b[39m\u001b[33m'\u001b[39m).alias(\u001b[33m'\u001b[39m\u001b[33mfields\u001b[39m\u001b[33m'\u001b[39m)\n\u001b[32m     18\u001b[39m     ).with_columns(\n\u001b[32m     19\u001b[39m         pl.concat_list(pl.col(\u001b[33m\"\u001b[39m\u001b[33mfields\u001b[39m\u001b[33m\"\u001b[39m).struct[\u001b[33m\"\u001b[39m\u001b[33ma\u001b[39m\u001b[33m\"\u001b[39m], pl.col(\u001b[33m\"\u001b[39m\u001b[33mfields\u001b[39m\u001b[33m\"\u001b[39m).struct[\u001b[33m\"\u001b[39m\u001b[33mb\u001b[39m\u001b[33m\"\u001b[39m]).alias(\u001b[33m\"\u001b[39m\u001b[33mfields\u001b[39m\u001b[33m\"\u001b[39m).list.sort()\n\u001b[32m     20\u001b[39m     ).unique(subset=[\u001b[33m\"\u001b[39m\u001b[33mfields\u001b[39m\u001b[33m\"\u001b[39m]).drop(\u001b[33m'\u001b[39m\u001b[33mfields\u001b[39m\u001b[33m'\u001b[39m)\n",
      "\u001b[36mFile \u001b[39m\u001b[32mc:\\Dev\\interpretable-ml\\.venv\\Lib\\site-packages\\polars\\dataframe\\frame.py:11596\u001b[39m, in \u001b[36mDataFrame.corr\u001b[39m\u001b[34m(self, **kwargs)\u001b[39m\n\u001b[32m  11565\u001b[39m \u001b[38;5;28;01mdef\u001b[39;00m\u001b[38;5;250m \u001b[39m\u001b[34mcorr\u001b[39m(\u001b[38;5;28mself\u001b[39m, **kwargs: Any) -> DataFrame:\n\u001b[32m  11566\u001b[39m \u001b[38;5;250m    \u001b[39m\u001b[33;03m\"\"\"\u001b[39;00m\n\u001b[32m  11567\u001b[39m \u001b[33;03m    Return pairwise Pearson product-moment correlation coefficients between columns.\u001b[39;00m\n\u001b[32m  11568\u001b[39m \n\u001b[32m   (...)\u001b[39m\u001b[32m  11594\u001b[39m \u001b[33;03m    └──────┴──────┴──────┘\u001b[39;00m\n\u001b[32m  11595\u001b[39m \u001b[33;03m    \"\"\"\u001b[39;00m\n\u001b[32m> \u001b[39m\u001b[32m11596\u001b[39m     correlation_matrix = \u001b[43mnp\u001b[49m\u001b[43m.\u001b[49m\u001b[43mcorrcoef\u001b[49m\u001b[43m(\u001b[49m\u001b[38;5;28;43mself\u001b[39;49m\u001b[43m.\u001b[49m\u001b[43mto_numpy\u001b[49m\u001b[43m(\u001b[49m\u001b[43m)\u001b[49m\u001b[43m,\u001b[49m\u001b[43m \u001b[49m\u001b[43mrowvar\u001b[49m\u001b[43m=\u001b[49m\u001b[38;5;28;43;01mFalse\u001b[39;49;00m\u001b[43m,\u001b[49m\u001b[43m \u001b[49m\u001b[43m*\u001b[49m\u001b[43m*\u001b[49m\u001b[43mkwargs\u001b[49m\u001b[43m)\u001b[49m\n\u001b[32m  11597\u001b[39m     \u001b[38;5;28;01mif\u001b[39;00m \u001b[38;5;28mself\u001b[39m.width == \u001b[32m1\u001b[39m:\n\u001b[32m  11598\u001b[39m         correlation_matrix = np.array([correlation_matrix])\n",
      "\u001b[31mTypeError\u001b[39m: corrcoef() got an unexpected keyword argument 'method'"
     ]
    }
   ],
   "source": [
    "get_corr(bike.select(pl.exclude('cnt', 'cnt_2d_bfr'))).head(10)"
   ]
  }
 ],
 "metadata": {
  "kernelspec": {
   "display_name": ".venv",
   "language": "python",
   "name": "python3"
  },
  "language_info": {
   "codemirror_mode": {
    "name": "ipython",
    "version": 3
   },
   "file_extension": ".py",
   "mimetype": "text/x-python",
   "name": "python",
   "nbconvert_exporter": "python",
   "pygments_lexer": "ipython3",
   "version": "3.11.11"
  }
 },
 "nbformat": 4,
 "nbformat_minor": 5
}
